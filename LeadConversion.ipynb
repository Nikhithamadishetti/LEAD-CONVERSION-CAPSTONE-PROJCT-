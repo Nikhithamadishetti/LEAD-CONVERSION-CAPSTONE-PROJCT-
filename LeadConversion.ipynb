{
 "cells": [
  {
   "cell_type": "code",
   "execution_count": 46,
   "metadata": {
    "scrolled": true
   },
   "outputs": [
    {
     "data": {
      "text/html": [
       "<div>\n",
       "<style scoped>\n",
       "    .dataframe tbody tr th:only-of-type {\n",
       "        vertical-align: middle;\n",
       "    }\n",
       "\n",
       "    .dataframe tbody tr th {\n",
       "        vertical-align: top;\n",
       "    }\n",
       "\n",
       "    .dataframe thead th {\n",
       "        text-align: right;\n",
       "    }\n",
       "</style>\n",
       "<table border=\"1\" class=\"dataframe\">\n",
       "  <thead>\n",
       "    <tr style=\"text-align: right;\">\n",
       "      <th></th>\n",
       "      <th>Program_Type</th>\n",
       "      <th>ProgramSubType</th>\n",
       "      <th>UIAN</th>\n",
       "      <th>Inquiry_Source</th>\n",
       "      <th>Inquiry_Source_Detail</th>\n",
       "      <th>Is_Lead_From_Prohibited_State</th>\n",
       "      <th>Group_Opportunity</th>\n",
       "      <th>Country</th>\n",
       "      <th>Is_Military_Lead</th>\n",
       "      <th>BOAS_Self_Apply</th>\n",
       "      <th>Highest_Level_of_Education</th>\n",
       "      <th>Converted</th>\n",
       "      <th>Email_Domain</th>\n",
       "    </tr>\n",
       "  </thead>\n",
       "  <tbody>\n",
       "    <tr>\n",
       "      <th>0</th>\n",
       "      <td>Certificate</td>\n",
       "      <td>Agile Management</td>\n",
       "      <td>Villanova University</td>\n",
       "      <td>Website</td>\n",
       "      <td>Direct Visit</td>\n",
       "      <td>0</td>\n",
       "      <td>0</td>\n",
       "      <td>United States of America</td>\n",
       "      <td>0</td>\n",
       "      <td>0</td>\n",
       "      <td>Some College</td>\n",
       "      <td>0</td>\n",
       "      <td>yahoo.com</td>\n",
       "    </tr>\n",
       "    <tr>\n",
       "      <th>1</th>\n",
       "      <td>Undergraduate</td>\n",
       "      <td>Psychology</td>\n",
       "      <td>Villanova University</td>\n",
       "      <td>cpc</td>\n",
       "      <td>Bing</td>\n",
       "      <td>0</td>\n",
       "      <td>0</td>\n",
       "      <td>United States of America</td>\n",
       "      <td>0</td>\n",
       "      <td>0</td>\n",
       "      <td>High School</td>\n",
       "      <td>0</td>\n",
       "      <td>gmail.com</td>\n",
       "    </tr>\n",
       "    <tr>\n",
       "      <th>2</th>\n",
       "      <td>Certificate</td>\n",
       "      <td>Agile Management</td>\n",
       "      <td>Villanova University</td>\n",
       "      <td>Website</td>\n",
       "      <td>Direct Visit</td>\n",
       "      <td>0</td>\n",
       "      <td>0</td>\n",
       "      <td>United States of America</td>\n",
       "      <td>1</td>\n",
       "      <td>0</td>\n",
       "      <td>Some College</td>\n",
       "      <td>0</td>\n",
       "      <td>yahoo.com</td>\n",
       "    </tr>\n",
       "    <tr>\n",
       "      <th>3</th>\n",
       "      <td>Certificate</td>\n",
       "      <td>Supply Chain Management</td>\n",
       "      <td>New England College</td>\n",
       "      <td>Website</td>\n",
       "      <td>Direct Visit</td>\n",
       "      <td>0</td>\n",
       "      <td>0</td>\n",
       "      <td>United States of America</td>\n",
       "      <td>1</td>\n",
       "      <td>0</td>\n",
       "      <td>NaN</td>\n",
       "      <td>0</td>\n",
       "      <td>gmail.com</td>\n",
       "    </tr>\n",
       "    <tr>\n",
       "      <th>4</th>\n",
       "      <td>Undergraduate</td>\n",
       "      <td>Business</td>\n",
       "      <td>Florida Institute of Technology</td>\n",
       "      <td>Website</td>\n",
       "      <td>NaN</td>\n",
       "      <td>0</td>\n",
       "      <td>0</td>\n",
       "      <td>United States of America</td>\n",
       "      <td>0</td>\n",
       "      <td>0</td>\n",
       "      <td>Some College</td>\n",
       "      <td>1</td>\n",
       "      <td>gmail.com</td>\n",
       "    </tr>\n",
       "  </tbody>\n",
       "</table>\n",
       "</div>"
      ],
      "text/plain": [
       "    Program_Type           ProgramSubType                             UIAN  \\\n",
       "0    Certificate         Agile Management             Villanova University   \n",
       "1  Undergraduate               Psychology             Villanova University   \n",
       "2    Certificate         Agile Management             Villanova University   \n",
       "3    Certificate  Supply Chain Management              New England College   \n",
       "4  Undergraduate                 Business  Florida Institute of Technology   \n",
       "\n",
       "  Inquiry_Source Inquiry_Source_Detail  Is_Lead_From_Prohibited_State  \\\n",
       "0        Website          Direct Visit                              0   \n",
       "1            cpc                  Bing                              0   \n",
       "2        Website          Direct Visit                              0   \n",
       "3        Website          Direct Visit                              0   \n",
       "4        Website                   NaN                              0   \n",
       "\n",
       "   Group_Opportunity                   Country  Is_Military_Lead  \\\n",
       "0                  0  United States of America                 0   \n",
       "1                  0  United States of America                 0   \n",
       "2                  0  United States of America                 1   \n",
       "3                  0  United States of America                 1   \n",
       "4                  0  United States of America                 0   \n",
       "\n",
       "   BOAS_Self_Apply Highest_Level_of_Education  Converted Email_Domain  \n",
       "0                0               Some College          0    yahoo.com  \n",
       "1                0                High School          0    gmail.com  \n",
       "2                0               Some College          0    yahoo.com  \n",
       "3                0                        NaN          0    gmail.com  \n",
       "4                0               Some College          1    gmail.com  "
      ]
     },
     "execution_count": 46,
     "metadata": {},
     "output_type": "execute_result"
    }
   ],
   "source": [
    "import pandas as pd\n",
    "#from pandas_profiling import ProfileReport\n",
    "from sklearn.linear_model import LogisticRegression\n",
    "from sklearn import metrics\n",
    "import numpy as np\n",
    "from matplotlib import pyplot as plt\n",
    "from sklearn.model_selection import train_test_split\n",
    "data = pd.read_excel(\"modified-leadconversion.xlsx\")\n",
    "data1=data\n",
    "data.head()"
   ]
  },
  {
   "cell_type": "code",
   "execution_count": 48,
   "metadata": {},
   "outputs": [
    {
     "data": {
      "text/plain": [
       "(100000, 13)"
      ]
     },
     "execution_count": 48,
     "metadata": {},
     "output_type": "execute_result"
    }
   ],
   "source": [
    "data.shape"
   ]
  },
  {
   "cell_type": "code",
   "execution_count": 49,
   "metadata": {},
   "outputs": [
    {
     "data": {
      "text/plain": [
       "Program_Type                        11\n",
       "ProgramSubType                    4570\n",
       "UIAN                                 0\n",
       "Inquiry_Source                    1411\n",
       "Inquiry_Source_Detail            26746\n",
       "Is_Lead_From_Prohibited_State        0\n",
       "Group_Opportunity                    0\n",
       "Country                           3019\n",
       "Is_Military_Lead                     0\n",
       "BOAS_Self_Apply                      0\n",
       "Highest_Level_of_Education       38449\n",
       "Converted                            0\n",
       "Email_Domain                       804\n",
       "dtype: int64"
      ]
     },
     "execution_count": 49,
     "metadata": {},
     "output_type": "execute_result"
    }
   ],
   "source": [
    "data.isnull().sum()"
   ]
  },
  {
   "cell_type": "code",
   "execution_count": 50,
   "metadata": {},
   "outputs": [],
   "source": [
    "data1=pd.read_excel(\"modified-leadconversion.xlsx\")"
   ]
  },
  {
   "cell_type": "code",
   "execution_count": 51,
   "metadata": {},
   "outputs": [
    {
     "ename": "NameError",
     "evalue": "name 'ProfileReport' is not defined",
     "output_type": "error",
     "traceback": [
      "\u001b[1;31m---------------------------------------------------------------------------\u001b[0m",
      "\u001b[1;31mNameError\u001b[0m                                 Traceback (most recent call last)",
      "\u001b[1;32m<ipython-input-51-7c6b70880eac>\u001b[0m in \u001b[0;36m<module>\u001b[1;34m\u001b[0m\n\u001b[1;32m----> 1\u001b[1;33m \u001b[0mdata_profile\u001b[0m \u001b[1;33m=\u001b[0m \u001b[0mProfileReport\u001b[0m\u001b[1;33m(\u001b[0m\u001b[0mdata\u001b[0m\u001b[1;33m)\u001b[0m\u001b[1;33m\u001b[0m\u001b[1;33m\u001b[0m\u001b[0m\n\u001b[0m\u001b[0;32m      2\u001b[0m \u001b[0mdata_profile\u001b[0m\u001b[1;33m.\u001b[0m\u001b[0mto_file\u001b[0m\u001b[1;33m(\u001b[0m\u001b[1;34m\"data_profile.html\"\u001b[0m\u001b[1;33m)\u001b[0m\u001b[1;33m\u001b[0m\u001b[1;33m\u001b[0m\u001b[0m\n",
      "\u001b[1;31mNameError\u001b[0m: name 'ProfileReport' is not defined"
     ]
    }
   ],
   "source": [
    "data_profile = ProfileReport(data)\n",
    "data_profile.to_file(\"data_profile.html\")"
   ]
  },
  {
   "cell_type": "code",
   "execution_count": 52,
   "metadata": {
    "scrolled": true
   },
   "outputs": [
    {
     "ename": "NameError",
     "evalue": "name 'data_profile' is not defined",
     "output_type": "error",
     "traceback": [
      "\u001b[1;31m---------------------------------------------------------------------------\u001b[0m",
      "\u001b[1;31mNameError\u001b[0m                                 Traceback (most recent call last)",
      "\u001b[1;32m<ipython-input-52-a6479e4735ec>\u001b[0m in \u001b[0;36m<module>\u001b[1;34m\u001b[0m\n\u001b[1;32m----> 1\u001b[1;33m \u001b[0mdata_profile\u001b[0m\u001b[1;33m\u001b[0m\u001b[1;33m\u001b[0m\u001b[0m\n\u001b[0m",
      "\u001b[1;31mNameError\u001b[0m: name 'data_profile' is not defined"
     ]
    }
   ],
   "source": [
    "data_profile"
   ]
  },
  {
   "cell_type": "code",
   "execution_count": 53,
   "metadata": {},
   "outputs": [
    {
     "data": {
      "text/plain": [
       "Program_Type                        11\n",
       "ProgramSubType                    4570\n",
       "UIAN                                 0\n",
       "Inquiry_Source                    1411\n",
       "Inquiry_Source_Detail            26746\n",
       "Is_Lead_From_Prohibited_State        0\n",
       "Group_Opportunity                    0\n",
       "Country                           3019\n",
       "Is_Military_Lead                     0\n",
       "BOAS_Self_Apply                      0\n",
       "Highest_Level_of_Education       38449\n",
       "Converted                            0\n",
       "Email_Domain                       804\n",
       "dtype: int64"
      ]
     },
     "execution_count": 53,
     "metadata": {},
     "output_type": "execute_result"
    }
   ],
   "source": [
    "data.isnull().sum()"
   ]
  },
  {
   "cell_type": "code",
   "execution_count": 54,
   "metadata": {},
   "outputs": [
    {
     "data": {
      "text/plain": [
       "Program_Type                     object\n",
       "ProgramSubType                   object\n",
       "UIAN                             object\n",
       "Inquiry_Source                   object\n",
       "Inquiry_Source_Detail            object\n",
       "Is_Lead_From_Prohibited_State     int64\n",
       "Group_Opportunity                 int64\n",
       "Country                          object\n",
       "Is_Military_Lead                  int64\n",
       "BOAS_Self_Apply                   int64\n",
       "Highest_Level_of_Education       object\n",
       "Converted                         int64\n",
       "Email_Domain                     object\n",
       "dtype: object"
      ]
     },
     "execution_count": 54,
     "metadata": {},
     "output_type": "execute_result"
    }
   ],
   "source": [
    "data.dtypes"
   ]
  },
  {
   "cell_type": "code",
   "execution_count": 55,
   "metadata": {},
   "outputs": [],
   "source": [
    "cat_columns = data.select_dtypes(['object']).columns\n",
    "data[cat_columns] = data[cat_columns].apply(lambda x: x.astype('category'))\n",
    "cat_to_code = {col: dict(zip(data[col], data[col].cat.codes)) for col in cat_columns}\n",
    "code_to_cat = {k: {v2: k2 for k2, v2 in v.items()} for k, v in cat_to_code.items()}\n",
    "data[cat_columns] = data[cat_columns].apply(lambda x: x.cat.codes)"
   ]
  },
  {
   "cell_type": "code",
   "execution_count": 56,
   "metadata": {},
   "outputs": [
    {
     "data": {
      "text/html": [
       "<div>\n",
       "<style scoped>\n",
       "    .dataframe tbody tr th:only-of-type {\n",
       "        vertical-align: middle;\n",
       "    }\n",
       "\n",
       "    .dataframe tbody tr th {\n",
       "        vertical-align: top;\n",
       "    }\n",
       "\n",
       "    .dataframe thead th {\n",
       "        text-align: right;\n",
       "    }\n",
       "</style>\n",
       "<table border=\"1\" class=\"dataframe\">\n",
       "  <thead>\n",
       "    <tr style=\"text-align: right;\">\n",
       "      <th></th>\n",
       "      <th>Program_Type</th>\n",
       "      <th>ProgramSubType</th>\n",
       "      <th>UIAN</th>\n",
       "      <th>Inquiry_Source</th>\n",
       "      <th>Inquiry_Source_Detail</th>\n",
       "      <th>Is_Lead_From_Prohibited_State</th>\n",
       "      <th>Group_Opportunity</th>\n",
       "      <th>Country</th>\n",
       "      <th>Is_Military_Lead</th>\n",
       "      <th>BOAS_Self_Apply</th>\n",
       "      <th>Highest_Level_of_Education</th>\n",
       "      <th>Converted</th>\n",
       "      <th>Email_Domain</th>\n",
       "    </tr>\n",
       "  </thead>\n",
       "  <tbody>\n",
       "    <tr>\n",
       "      <th>0</th>\n",
       "      <td>0</td>\n",
       "      <td>3</td>\n",
       "      <td>11</td>\n",
       "      <td>20</td>\n",
       "      <td>9</td>\n",
       "      <td>0</td>\n",
       "      <td>0</td>\n",
       "      <td>186</td>\n",
       "      <td>0</td>\n",
       "      <td>0</td>\n",
       "      <td>26</td>\n",
       "      <td>0</td>\n",
       "      <td>7668</td>\n",
       "    </tr>\n",
       "    <tr>\n",
       "      <th>1</th>\n",
       "      <td>3</td>\n",
       "      <td>33</td>\n",
       "      <td>11</td>\n",
       "      <td>24</td>\n",
       "      <td>5</td>\n",
       "      <td>0</td>\n",
       "      <td>0</td>\n",
       "      <td>186</td>\n",
       "      <td>0</td>\n",
       "      <td>0</td>\n",
       "      <td>15</td>\n",
       "      <td>0</td>\n",
       "      <td>2791</td>\n",
       "    </tr>\n",
       "    <tr>\n",
       "      <th>2</th>\n",
       "      <td>0</td>\n",
       "      <td>3</td>\n",
       "      <td>11</td>\n",
       "      <td>20</td>\n",
       "      <td>9</td>\n",
       "      <td>0</td>\n",
       "      <td>0</td>\n",
       "      <td>186</td>\n",
       "      <td>1</td>\n",
       "      <td>0</td>\n",
       "      <td>26</td>\n",
       "      <td>0</td>\n",
       "      <td>7668</td>\n",
       "    </tr>\n",
       "    <tr>\n",
       "      <th>3</th>\n",
       "      <td>0</td>\n",
       "      <td>39</td>\n",
       "      <td>4</td>\n",
       "      <td>20</td>\n",
       "      <td>9</td>\n",
       "      <td>0</td>\n",
       "      <td>0</td>\n",
       "      <td>186</td>\n",
       "      <td>1</td>\n",
       "      <td>0</td>\n",
       "      <td>-1</td>\n",
       "      <td>0</td>\n",
       "      <td>2791</td>\n",
       "    </tr>\n",
       "    <tr>\n",
       "      <th>4</th>\n",
       "      <td>3</td>\n",
       "      <td>6</td>\n",
       "      <td>1</td>\n",
       "      <td>20</td>\n",
       "      <td>-1</td>\n",
       "      <td>0</td>\n",
       "      <td>0</td>\n",
       "      <td>186</td>\n",
       "      <td>0</td>\n",
       "      <td>0</td>\n",
       "      <td>26</td>\n",
       "      <td>1</td>\n",
       "      <td>2791</td>\n",
       "    </tr>\n",
       "  </tbody>\n",
       "</table>\n",
       "</div>"
      ],
      "text/plain": [
       "   Program_Type  ProgramSubType  UIAN  Inquiry_Source  Inquiry_Source_Detail  \\\n",
       "0             0               3    11              20                      9   \n",
       "1             3              33    11              24                      5   \n",
       "2             0               3    11              20                      9   \n",
       "3             0              39     4              20                      9   \n",
       "4             3               6     1              20                     -1   \n",
       "\n",
       "   Is_Lead_From_Prohibited_State  Group_Opportunity  Country  \\\n",
       "0                              0                  0      186   \n",
       "1                              0                  0      186   \n",
       "2                              0                  0      186   \n",
       "3                              0                  0      186   \n",
       "4                              0                  0      186   \n",
       "\n",
       "   Is_Military_Lead  BOAS_Self_Apply  Highest_Level_of_Education  Converted  \\\n",
       "0                 0                0                          26          0   \n",
       "1                 0                0                          15          0   \n",
       "2                 1                0                          26          0   \n",
       "3                 1                0                          -1          0   \n",
       "4                 0                0                          26          1   \n",
       "\n",
       "   Email_Domain  \n",
       "0          7668  \n",
       "1          2791  \n",
       "2          7668  \n",
       "3          2791  \n",
       "4          2791  "
      ]
     },
     "execution_count": 56,
     "metadata": {},
     "output_type": "execute_result"
    }
   ],
   "source": [
    "data.head()"
   ]
  },
  {
   "cell_type": "code",
   "execution_count": 57,
   "metadata": {},
   "outputs": [
    {
     "data": {
      "text/plain": [
       "Program_Type                      int8\n",
       "ProgramSubType                    int8\n",
       "UIAN                              int8\n",
       "Inquiry_Source                    int8\n",
       "Inquiry_Source_Detail             int8\n",
       "Is_Lead_From_Prohibited_State    int64\n",
       "Group_Opportunity                int64\n",
       "Country                          int16\n",
       "Is_Military_Lead                 int64\n",
       "BOAS_Self_Apply                  int64\n",
       "Highest_Level_of_Education        int8\n",
       "Converted                        int64\n",
       "Email_Domain                     int16\n",
       "dtype: object"
      ]
     },
     "execution_count": 57,
     "metadata": {},
     "output_type": "execute_result"
    }
   ],
   "source": [
    "data.dtypes"
   ]
  },
  {
   "cell_type": "code",
   "execution_count": 58,
   "metadata": {},
   "outputs": [
    {
     "name": "stdout",
     "output_type": "stream",
     "text": [
      "<class 'pandas.core.frame.DataFrame'>\n",
      "RangeIndex: 100000 entries, 0 to 99999\n",
      "Data columns (total 13 columns):\n",
      " #   Column                         Non-Null Count   Dtype\n",
      "---  ------                         --------------   -----\n",
      " 0   Program_Type                   100000 non-null  int8 \n",
      " 1   ProgramSubType                 100000 non-null  int8 \n",
      " 2   UIAN                           100000 non-null  int8 \n",
      " 3   Inquiry_Source                 100000 non-null  int8 \n",
      " 4   Inquiry_Source_Detail          100000 non-null  int8 \n",
      " 5   Is_Lead_From_Prohibited_State  100000 non-null  int64\n",
      " 6   Group_Opportunity              100000 non-null  int64\n",
      " 7   Country                        100000 non-null  int16\n",
      " 8   Is_Military_Lead               100000 non-null  int64\n",
      " 9   BOAS_Self_Apply                100000 non-null  int64\n",
      " 10  Highest_Level_of_Education     100000 non-null  int8 \n",
      " 11  Converted                      100000 non-null  int64\n",
      " 12  Email_Domain                   100000 non-null  int16\n",
      "dtypes: int16(2), int64(5), int8(6)\n",
      "memory usage: 4.8 MB\n"
     ]
    },
    {
     "data": {
      "text/plain": [
       "0    0\n",
       "1    0\n",
       "2    0\n",
       "3    0\n",
       "4    1\n",
       "Name: Converted, dtype: int64"
      ]
     },
     "execution_count": 58,
     "metadata": {},
     "output_type": "execute_result"
    }
   ],
   "source": [
    "data.info()\n",
    "x = data.loc[:, data.columns != 'Converted']\n",
    "x.head()\n",
    "y = data['Converted']\n",
    "y.head()"
   ]
  },
  {
   "cell_type": "code",
   "execution_count": 60,
   "metadata": {},
   "outputs": [
    {
     "data": {
      "text/plain": [
       "Program_Type                     0\n",
       "ProgramSubType                   0\n",
       "UIAN                             0\n",
       "Inquiry_Source                   0\n",
       "Inquiry_Source_Detail            0\n",
       "Is_Lead_From_Prohibited_State    0\n",
       "Group_Opportunity                0\n",
       "Country                          0\n",
       "Is_Military_Lead                 0\n",
       "BOAS_Self_Apply                  0\n",
       "Highest_Level_of_Education       0\n",
       "Converted                        0\n",
       "Email_Domain                     0\n",
       "dtype: int64"
      ]
     },
     "execution_count": 60,
     "metadata": {},
     "output_type": "execute_result"
    }
   ],
   "source": [
    "data.isnull().sum()"
   ]
  },
  {
   "cell_type": "code",
   "execution_count": 61,
   "metadata": {},
   "outputs": [
    {
     "data": {
      "text/plain": [
       "(array([0, 1], dtype=int64), array([80982, 19018], dtype=int64))"
      ]
     },
     "execution_count": 61,
     "metadata": {},
     "output_type": "execute_result"
    }
   ],
   "source": [
    "import numpy as np\n",
    "np.unique(y,return_counts=True)"
   ]
  },
  {
   "cell_type": "code",
   "execution_count": 62,
   "metadata": {},
   "outputs": [
    {
     "name": "stdout",
     "output_type": "stream",
     "text": [
      "Accuracy: 0.8106\n"
     ]
    },
    {
     "name": "stderr",
     "output_type": "stream",
     "text": [
      "C:\\Users\\Admin\\Anaconda3\\lib\\site-packages\\sklearn\\linear_model\\_logistic.py:940: ConvergenceWarning: lbfgs failed to converge (status=1):\n",
      "STOP: TOTAL NO. of ITERATIONS REACHED LIMIT.\n",
      "\n",
      "Increase the number of iterations (max_iter) or scale the data as shown in:\n",
      "    https://scikit-learn.org/stable/modules/preprocessing.html\n",
      "Please also refer to the documentation for alternative solver options:\n",
      "    https://scikit-learn.org/stable/modules/linear_model.html#logistic-regression\n",
      "  extra_warning_msg=_LOGISTIC_SOLVER_CONVERGENCE_MSG)\n"
     ]
    }
   ],
   "source": [
    "x_train, x_test, y_train, y_test = train_test_split(x, y, test_size=0.25)\n",
    "logreg = LogisticRegression()\n",
    "logreg.fit(x_train,y_train)\n",
    "y_pred=logreg.predict(x_test)\n",
    "logreg.coef_\n",
    "t = logreg.predict_proba(x_test)\n",
    "t\n",
    "print(\"Accuracy:\",metrics.accuracy_score(y_test, y_pred))"
   ]
  },
  {
   "cell_type": "markdown",
   "metadata": {},
   "source": [
    "# equal samples"
   ]
  },
  {
   "cell_type": "code",
   "execution_count": 63,
   "metadata": {},
   "outputs": [
    {
     "data": {
      "text/plain": [
       "0    80982\n",
       "1    19018\n",
       "Name: Converted, dtype: int64"
      ]
     },
     "execution_count": 63,
     "metadata": {},
     "output_type": "execute_result"
    }
   ],
   "source": [
    "data['Converted'].value_counts()"
   ]
  },
  {
   "cell_type": "code",
   "execution_count": 64,
   "metadata": {},
   "outputs": [],
   "source": [
    "new_data = data.groupby('Converted').apply(lambda x: x.sample(19018, replace=False)).reset_index(drop=True)"
   ]
  },
  {
   "cell_type": "code",
   "execution_count": 65,
   "metadata": {},
   "outputs": [
    {
     "data": {
      "text/plain": [
       "1    19018\n",
       "0    19018\n",
       "Name: Converted, dtype: int64"
      ]
     },
     "execution_count": 65,
     "metadata": {},
     "output_type": "execute_result"
    }
   ],
   "source": [
    "new_data['Converted'].value_counts()"
   ]
  },
  {
   "cell_type": "code",
   "execution_count": 19,
   "metadata": {},
   "outputs": [],
   "source": [
    "new_data.to_excel('example.xlsx')"
   ]
  },
  {
   "cell_type": "code",
   "execution_count": 66,
   "metadata": {},
   "outputs": [],
   "source": [
    "cat_columns = new_data.select_dtypes(['object']).columns\n",
    "new_data[cat_columns] = new_data[cat_columns].apply(lambda x: x.astype('category'))\n",
    "cat_to_code = {col: dict(zip(new_data[col], new_data[col].cat.codes)) for col in cat_columns}\n",
    "code_to_cat = {k: {v2: k2 for k2, v2 in v.items()} for k, v in cat_to_code.items()}\n",
    "new_data[cat_columns] = new_data[cat_columns].apply(lambda x: x.cat.codes)"
   ]
  },
  {
   "cell_type": "code",
   "execution_count": 68,
   "metadata": {},
   "outputs": [
    {
     "data": {
      "text/plain": [
       "Program_Type                      int8\n",
       "ProgramSubType                    int8\n",
       "UIAN                              int8\n",
       "Inquiry_Source                    int8\n",
       "Inquiry_Source_Detail             int8\n",
       "Is_Lead_From_Prohibited_State    int64\n",
       "Group_Opportunity                int64\n",
       "Country                          int16\n",
       "Is_Military_Lead                 int64\n",
       "BOAS_Self_Apply                  int64\n",
       "Highest_Level_of_Education        int8\n",
       "Converted                        int64\n",
       "Email_Domain                     int16\n",
       "dtype: object"
      ]
     },
     "execution_count": 68,
     "metadata": {},
     "output_type": "execute_result"
    }
   ],
   "source": [
    "new_data.dtypes"
   ]
  },
  {
   "cell_type": "code",
   "execution_count": 69,
   "metadata": {},
   "outputs": [
    {
     "data": {
      "text/html": [
       "<div>\n",
       "<style scoped>\n",
       "    .dataframe tbody tr th:only-of-type {\n",
       "        vertical-align: middle;\n",
       "    }\n",
       "\n",
       "    .dataframe tbody tr th {\n",
       "        vertical-align: top;\n",
       "    }\n",
       "\n",
       "    .dataframe thead th {\n",
       "        text-align: right;\n",
       "    }\n",
       "</style>\n",
       "<table border=\"1\" class=\"dataframe\">\n",
       "  <thead>\n",
       "    <tr style=\"text-align: right;\">\n",
       "      <th></th>\n",
       "      <th>Program_Type</th>\n",
       "      <th>ProgramSubType</th>\n",
       "      <th>UIAN</th>\n",
       "      <th>Inquiry_Source</th>\n",
       "      <th>Inquiry_Source_Detail</th>\n",
       "      <th>Is_Lead_From_Prohibited_State</th>\n",
       "      <th>Group_Opportunity</th>\n",
       "      <th>Country</th>\n",
       "      <th>Is_Military_Lead</th>\n",
       "      <th>BOAS_Self_Apply</th>\n",
       "      <th>Highest_Level_of_Education</th>\n",
       "      <th>Converted</th>\n",
       "      <th>Email_Domain</th>\n",
       "    </tr>\n",
       "  </thead>\n",
       "  <tbody>\n",
       "    <tr>\n",
       "      <th>0</th>\n",
       "      <td>0</td>\n",
       "      <td>30</td>\n",
       "      <td>7</td>\n",
       "      <td>20</td>\n",
       "      <td>11</td>\n",
       "      <td>0</td>\n",
       "      <td>0</td>\n",
       "      <td>186</td>\n",
       "      <td>0</td>\n",
       "      <td>0</td>\n",
       "      <td>-1</td>\n",
       "      <td>0</td>\n",
       "      <td>2791</td>\n",
       "    </tr>\n",
       "    <tr>\n",
       "      <th>1</th>\n",
       "      <td>3</td>\n",
       "      <td>33</td>\n",
       "      <td>4</td>\n",
       "      <td>5</td>\n",
       "      <td>55</td>\n",
       "      <td>0</td>\n",
       "      <td>0</td>\n",
       "      <td>186</td>\n",
       "      <td>0</td>\n",
       "      <td>0</td>\n",
       "      <td>-1</td>\n",
       "      <td>0</td>\n",
       "      <td>2791</td>\n",
       "    </tr>\n",
       "    <tr>\n",
       "      <th>2</th>\n",
       "      <td>3</td>\n",
       "      <td>7</td>\n",
       "      <td>7</td>\n",
       "      <td>24</td>\n",
       "      <td>17</td>\n",
       "      <td>0</td>\n",
       "      <td>0</td>\n",
       "      <td>186</td>\n",
       "      <td>0</td>\n",
       "      <td>0</td>\n",
       "      <td>-1</td>\n",
       "      <td>0</td>\n",
       "      <td>587</td>\n",
       "    </tr>\n",
       "    <tr>\n",
       "      <th>3</th>\n",
       "      <td>3</td>\n",
       "      <td>17</td>\n",
       "      <td>1</td>\n",
       "      <td>5</td>\n",
       "      <td>28</td>\n",
       "      <td>0</td>\n",
       "      <td>0</td>\n",
       "      <td>186</td>\n",
       "      <td>0</td>\n",
       "      <td>0</td>\n",
       "      <td>26</td>\n",
       "      <td>0</td>\n",
       "      <td>7668</td>\n",
       "    </tr>\n",
       "    <tr>\n",
       "      <th>4</th>\n",
       "      <td>0</td>\n",
       "      <td>32</td>\n",
       "      <td>11</td>\n",
       "      <td>24</td>\n",
       "      <td>17</td>\n",
       "      <td>0</td>\n",
       "      <td>0</td>\n",
       "      <td>186</td>\n",
       "      <td>0</td>\n",
       "      <td>0</td>\n",
       "      <td>8</td>\n",
       "      <td>0</td>\n",
       "      <td>2791</td>\n",
       "    </tr>\n",
       "  </tbody>\n",
       "</table>\n",
       "</div>"
      ],
      "text/plain": [
       "   Program_Type  ProgramSubType  UIAN  Inquiry_Source  Inquiry_Source_Detail  \\\n",
       "0             0              30     7              20                     11   \n",
       "1             3              33     4               5                     55   \n",
       "2             3               7     7              24                     17   \n",
       "3             3              17     1               5                     28   \n",
       "4             0              32    11              24                     17   \n",
       "\n",
       "   Is_Lead_From_Prohibited_State  Group_Opportunity  Country  \\\n",
       "0                              0                  0      186   \n",
       "1                              0                  0      186   \n",
       "2                              0                  0      186   \n",
       "3                              0                  0      186   \n",
       "4                              0                  0      186   \n",
       "\n",
       "   Is_Military_Lead  BOAS_Self_Apply  Highest_Level_of_Education  Converted  \\\n",
       "0                 0                0                          -1          0   \n",
       "1                 0                0                          -1          0   \n",
       "2                 0                0                          -1          0   \n",
       "3                 0                0                          26          0   \n",
       "4                 0                0                           8          0   \n",
       "\n",
       "   Email_Domain  \n",
       "0          2791  \n",
       "1          2791  \n",
       "2           587  \n",
       "3          7668  \n",
       "4          2791  "
      ]
     },
     "execution_count": 69,
     "metadata": {},
     "output_type": "execute_result"
    }
   ],
   "source": [
    "new_data.head()"
   ]
  },
  {
   "cell_type": "code",
   "execution_count": 81,
   "metadata": {},
   "outputs": [],
   "source": [
    "new_data.drop(['Highest_Level_of_Education','Is_Military_Lead'],axis=1,inplace=True)"
   ]
  },
  {
   "cell_type": "code",
   "execution_count": 70,
   "metadata": {},
   "outputs": [
    {
     "data": {
      "text/plain": [
       "2791    21133\n",
       "7668     5412\n",
       "3261     1730\n",
       "439       817\n",
       "3373      661\n",
       "        ...  \n",
       "2293        1\n",
       "244         1\n",
       "6359        1\n",
       "2261        1\n",
       "6147        1\n",
       "Name: Email_Domain, Length: 3733, dtype: int64"
      ]
     },
     "execution_count": 70,
     "metadata": {},
     "output_type": "execute_result"
    }
   ],
   "source": [
    "new_data['Email_Domain'].value_counts()"
   ]
  },
  {
   "cell_type": "code",
   "execution_count": 71,
   "metadata": {},
   "outputs": [
    {
     "name": "stdout",
     "output_type": "stream",
     "text": [
      "<class 'pandas.core.frame.DataFrame'>\n",
      "RangeIndex: 38036 entries, 0 to 38035\n",
      "Data columns (total 13 columns):\n",
      " #   Column                         Non-Null Count  Dtype\n",
      "---  ------                         --------------  -----\n",
      " 0   Program_Type                   38036 non-null  int8 \n",
      " 1   ProgramSubType                 38036 non-null  int8 \n",
      " 2   UIAN                           38036 non-null  int8 \n",
      " 3   Inquiry_Source                 38036 non-null  int8 \n",
      " 4   Inquiry_Source_Detail          38036 non-null  int8 \n",
      " 5   Is_Lead_From_Prohibited_State  38036 non-null  int64\n",
      " 6   Group_Opportunity              38036 non-null  int64\n",
      " 7   Country                        38036 non-null  int16\n",
      " 8   Is_Military_Lead               38036 non-null  int64\n",
      " 9   BOAS_Self_Apply                38036 non-null  int64\n",
      " 10  Highest_Level_of_Education     38036 non-null  int8 \n",
      " 11  Converted                      38036 non-null  int64\n",
      " 12  Email_Domain                   38036 non-null  int16\n",
      "dtypes: int16(2), int64(5), int8(6)\n",
      "memory usage: 1.8 MB\n"
     ]
    },
    {
     "data": {
      "text/plain": [
       "0    0\n",
       "1    0\n",
       "2    0\n",
       "3    0\n",
       "4    0\n",
       "Name: Converted, dtype: int64"
      ]
     },
     "execution_count": 71,
     "metadata": {},
     "output_type": "execute_result"
    }
   ],
   "source": [
    "new_data.info()\n",
    "x = new_data.loc[:, new_data.columns != 'Converted']\n",
    "x.head()\n",
    "y = new_data['Converted']\n",
    "y.head()"
   ]
  },
  {
   "cell_type": "code",
   "execution_count": 82,
   "metadata": {},
   "outputs": [
    {
     "name": "stdout",
     "output_type": "stream",
     "text": [
      "Accuracy: 0.8088\n"
     ]
    },
    {
     "name": "stderr",
     "output_type": "stream",
     "text": [
      "C:\\Users\\Admin\\Anaconda3\\lib\\site-packages\\sklearn\\linear_model\\_logistic.py:940: ConvergenceWarning: lbfgs failed to converge (status=1):\n",
      "STOP: TOTAL NO. of ITERATIONS REACHED LIMIT.\n",
      "\n",
      "Increase the number of iterations (max_iter) or scale the data as shown in:\n",
      "    https://scikit-learn.org/stable/modules/preprocessing.html\n",
      "Please also refer to the documentation for alternative solver options:\n",
      "    https://scikit-learn.org/stable/modules/linear_model.html#logistic-regression\n",
      "  extra_warning_msg=_LOGISTIC_SOLVER_CONVERGENCE_MSG)\n"
     ]
    }
   ],
   "source": [
    "x_train, x_test, y_train, y_test = train_test_split(x, y, test_size=0.25, random_state = 6)\n",
    "logreg = LogisticRegression()\n",
    "logreg.fit(x_train,y_train)\n",
    "y_pred=logreg.predict(x_test)\n",
    "logreg.coef_\n",
    "t = logreg.predict_proba(x_test)\n",
    "t\n",
    "print(\"Accuracy:\",metrics.accuracy_score(y_test, y_pred))"
   ]
  },
  {
   "cell_type": "code",
   "execution_count": 89,
   "metadata": {},
   "outputs": [
    {
     "data": {
      "text/plain": [
       "RandomForestClassifier(bootstrap=True, ccp_alpha=0.0, class_weight=None,\n",
       "                       criterion='gini', max_depth=None, max_features='auto',\n",
       "                       max_leaf_nodes=None, max_samples=None,\n",
       "                       min_impurity_decrease=0.0, min_impurity_split=None,\n",
       "                       min_samples_leaf=1, min_samples_split=2,\n",
       "                       min_weight_fraction_leaf=0.0, n_estimators=1000,\n",
       "                       n_jobs=None, oob_score=False, random_state=14, verbose=0,\n",
       "                       warm_start=False)"
      ]
     },
     "execution_count": 89,
     "metadata": {},
     "output_type": "execute_result"
    }
   ],
   "source": [
    "from sklearn.ensemble import RandomForestClassifier\n",
    "rf=RandomForestClassifier(n_estimators=1000,random_state=14)\n",
    "rf.fit(x_train,y_train)"
   ]
  },
  {
   "cell_type": "code",
   "execution_count": 90,
   "metadata": {},
   "outputs": [
    {
     "name": "stdout",
     "output_type": "stream",
     "text": [
      "Random Forest Accuracy Score : 88.79\n"
     ]
    }
   ],
   "source": [
    "accuracy=rf.score(x_test,y_test)*100\n",
    "print(\"Random Forest Accuracy Score :\" ,accuracy)"
   ]
  },
  {
   "cell_type": "code",
   "execution_count": 91,
   "metadata": {},
   "outputs": [],
   "source": [
    "import pickle\n",
    "filename = 'model/model.pkl'\n",
    "pickle.dump(rf, open(filename, 'wb'))"
   ]
  },
  {
   "cell_type": "code",
   "execution_count": 92,
   "metadata": {},
   "outputs": [],
   "source": [
    "loaded_model = pickle.load(open(filename, 'rb'))\n",
    "result = loaded_model.score(x_test, y_test)"
   ]
  },
  {
   "cell_type": "markdown",
   "metadata": {},
   "source": [
    "# random forests"
   ]
  },
  {
   "cell_type": "code",
   "execution_count": 83,
   "metadata": {},
   "outputs": [],
   "source": [
    "x = data.loc[:, data.columns != 'Converted']\n",
    "y = data['Converted']\n",
    "x_train, x_test, y_train, y_test = train_test_split(x, y, test_size=0.20,random_state=0)"
   ]
  },
  {
   "cell_type": "code",
   "execution_count": 84,
   "metadata": {},
   "outputs": [
    {
     "data": {
      "text/html": [
       "<div>\n",
       "<style scoped>\n",
       "    .dataframe tbody tr th:only-of-type {\n",
       "        vertical-align: middle;\n",
       "    }\n",
       "\n",
       "    .dataframe tbody tr th {\n",
       "        vertical-align: top;\n",
       "    }\n",
       "\n",
       "    .dataframe thead th {\n",
       "        text-align: right;\n",
       "    }\n",
       "</style>\n",
       "<table border=\"1\" class=\"dataframe\">\n",
       "  <thead>\n",
       "    <tr style=\"text-align: right;\">\n",
       "      <th></th>\n",
       "      <th>Program_Type</th>\n",
       "      <th>ProgramSubType</th>\n",
       "      <th>UIAN</th>\n",
       "      <th>Inquiry_Source</th>\n",
       "      <th>Inquiry_Source_Detail</th>\n",
       "      <th>Is_Lead_From_Prohibited_State</th>\n",
       "      <th>Group_Opportunity</th>\n",
       "      <th>Country</th>\n",
       "      <th>Is_Military_Lead</th>\n",
       "      <th>BOAS_Self_Apply</th>\n",
       "      <th>Highest_Level_of_Education</th>\n",
       "      <th>Email_Domain</th>\n",
       "    </tr>\n",
       "  </thead>\n",
       "  <tbody>\n",
       "    <tr>\n",
       "      <th>10382</th>\n",
       "      <td>0</td>\n",
       "      <td>0</td>\n",
       "      <td>1</td>\n",
       "      <td>20</td>\n",
       "      <td>-1</td>\n",
       "      <td>0</td>\n",
       "      <td>0</td>\n",
       "      <td>186</td>\n",
       "      <td>0</td>\n",
       "      <td>0</td>\n",
       "      <td>15</td>\n",
       "      <td>2791</td>\n",
       "    </tr>\n",
       "  </tbody>\n",
       "</table>\n",
       "</div>"
      ],
      "text/plain": [
       "       Program_Type  ProgramSubType  UIAN  Inquiry_Source  \\\n",
       "10382             0               0     1              20   \n",
       "\n",
       "       Inquiry_Source_Detail  Is_Lead_From_Prohibited_State  \\\n",
       "10382                     -1                              0   \n",
       "\n",
       "       Group_Opportunity  Country  Is_Military_Lead  BOAS_Self_Apply  \\\n",
       "10382                  0      186                 0                0   \n",
       "\n",
       "       Highest_Level_of_Education  Email_Domain  \n",
       "10382                          15          2791  "
      ]
     },
     "execution_count": 84,
     "metadata": {},
     "output_type": "execute_result"
    }
   ],
   "source": [
    "x_train.head(1)"
   ]
  },
  {
   "cell_type": "code",
   "execution_count": 85,
   "metadata": {},
   "outputs": [
    {
     "data": {
      "text/plain": [
       "RandomForestClassifier(bootstrap=True, ccp_alpha=0.0, class_weight=None,\n",
       "                       criterion='gini', max_depth=None, max_features='auto',\n",
       "                       max_leaf_nodes=None, max_samples=None,\n",
       "                       min_impurity_decrease=0.0, min_impurity_split=None,\n",
       "                       min_samples_leaf=1, min_samples_split=2,\n",
       "                       min_weight_fraction_leaf=0.0, n_estimators=1000,\n",
       "                       n_jobs=None, oob_score=False, random_state=14, verbose=0,\n",
       "                       warm_start=False)"
      ]
     },
     "execution_count": 85,
     "metadata": {},
     "output_type": "execute_result"
    }
   ],
   "source": [
    "from sklearn.ensemble import RandomForestClassifier\n",
    "rf=RandomForestClassifier(n_estimators=1000,random_state=14)\n",
    "rf.fit(x_train,y_train)"
   ]
  },
  {
   "cell_type": "code",
   "execution_count": 86,
   "metadata": {},
   "outputs": [
    {
     "name": "stdout",
     "output_type": "stream",
     "text": [
      "Random Forest Accuracy Score : 88.79\n"
     ]
    }
   ],
   "source": [
    "accuracy=rf.score(x_test,y_test)*100\n",
    "print(\"Random Forest Accuracy Score :\" ,accuracy)"
   ]
  },
  {
   "cell_type": "code",
   "execution_count": 87,
   "metadata": {},
   "outputs": [],
   "source": [
    "import pickle\n",
    "filename = 'model/model.pkl'\n",
    "pickle.dump(rf, open(filename, 'wb'))"
   ]
  },
  {
   "cell_type": "code",
   "execution_count": 88,
   "metadata": {},
   "outputs": [],
   "source": [
    "loaded_model = pickle.load(open(filename, 'rb'))\n",
    "result = loaded_model.score(x_test, y_test)"
   ]
  },
  {
   "cell_type": "code",
   "execution_count": 79,
   "metadata": {},
   "outputs": [
    {
     "name": "stdout",
     "output_type": "stream",
     "text": [
      "0.8879\n"
     ]
    }
   ],
   "source": [
    "print(result)"
   ]
  },
  {
   "cell_type": "code",
   "execution_count": 80,
   "metadata": {},
   "outputs": [
    {
     "data": {
      "text/plain": [
       "0"
      ]
     },
     "execution_count": 80,
     "metadata": {},
     "output_type": "execute_result"
    }
   ],
   "source": [
    "prediction = rf.predict([[0,8,1,5,87,0,0,186,0,0,26,2791]])\n",
    "prediction\n",
    "int(prediction[0])"
   ]
  },
  {
   "cell_type": "code",
   "execution_count": 103,
   "metadata": {},
   "outputs": [],
   "source": [
    "from flask import Flask, render_template \n",
    "import pickle\n",
    "from flask_bootstrap import Bootstrap\n",
    "from flask_wtf import FlaskForm\n",
    "from wtforms import SubmitField, validators, FloatField, SelectField \n",
    "import pandas as pd"
   ]
  },
  {
   "cell_type": "code",
   "execution_count": 104,
   "metadata": {},
   "outputs": [],
   "source": [
    "app = Flask(__name__) \n",
    "app.config['SECRET_KEY'] = 'any secret key'"
   ]
  },
  {
   "cell_type": "code",
   "execution_count": 105,
   "metadata": {},
   "outputs": [],
   "source": [
    "bootstrap = Bootstrap(app) "
   ]
  },
  {
   "cell_type": "code",
   "execution_count": 106,
   "metadata": {},
   "outputs": [],
   "source": [
    "program_type_index=['Certificate','Undergraduate','Graduate','None']\n",
    "programsubtype_index=['Pyschology','Business','Project Management','Human Resourse & Leadership','Six Sigma','Other values']\n",
    "uian_index=['Villanova University','Florida Institute of Technology','Michigan State University','New England College','University of Notre Dame','Other values']\n",
    "inquiry_source_index=['cpc','Website','Internet','paid+social','Paid Social Media','Other values']\n",
    "inquiry_source_detail_index=['Google','Direct Visit','facebook.com','Bing','Facebook','Other values']\n",
    "is_lead_from_prohibited_state_index=['Yes','No']\n",
    "group_oppurtunity_index=['Yes','No']\n",
    "country_index=['United States of America','India','Nigeria','Canada','Mexico','Other values']\n",
    "is_military_lead_index=['Yes','No']\n",
    "boas_self_apply_index=['Yes','No']\n",
    "email_domain_index=['gmail.com','yahoo.com','hotmail.com','aol.com','icloud.com','Other values']"
   ]
  },
  {
   "cell_type": "code",
   "execution_count": 107,
   "metadata": {},
   "outputs": [],
   "source": [
    "model = pickle.load(open('C:/Users/Delll/Documents/ai-project/flaskapp/model/model.pkl', 'rb')) \n",
    "feature_names= ['Program_Type','ProgramSubType','UIAN','Inquiry_Source','Inquiry_Source_Detail','Group_Oppurtunity','Country','Is_Military_Lead','BOAS_Self_Appl','Email_Domain'] \n",
    " "
   ]
  },
  {
   "cell_type": "code",
   "execution_count": 108,
   "metadata": {},
   "outputs": [],
   "source": [
    "class FeaturesForm(FlaskForm):\n",
    "    Program_Type=SelectField('Program_Type',[validators.DataRequired()],choices=[('Certificate','Certificate'),('Undergraduate','Undergraduate'),('Graduate','Graduate'),('None','None')])   \n",
    "    ProgramSubType=SelectField('ProgramSubType',[validators.DataRequired()],choices=[('Pyschology','Psychology'),('Business','Business'),('Project Management','Project Management'),('Human Resourse & Leadership','Human Resourse & Leadership'),('Six Sigma','Six Sigma'),('Other values','Other values')])\n",
    "    UIAN=SelectField('UIAN',[validators.DataRequired()],choices=[('Villanova University','Villanova University'),('Florida Institute of Technology','Florida Institute of Technology'),('Michigan State University','Michigan State University'),('New England College','New England College'),('University of Notre Dame','University of Notre Dame'),('Other values','Other values')])\n",
    "    Inquiry_Source=SelectField('Inquiry_Souce',[validators.DataRequired()],choices=[('cpc','cpc'),('Website','Website'),('Internet','Internet'),('paid+social','paid+school'),('Paid Social Media','Paid Social Media'),('Other values','Other values')])\n",
    "    Inquiry_Source_Detail=SelectField('Inquiry_Source_Detail',[validators.DataRequired()],choices=[('Google','Google'),('Direct Visit','Direct Visit'),('facebook.com','facebook.com'),('Bing','Bing'),('Facebook','Facebook'),('Other values','Other values')])\n",
    "    Is_Lead_From_Prohibited_State=SelectField('Is_Lead_From_Prohibited_State',[validators.DataRequired()],choices=['Yes','Yes','No','No'])\n",
    "    Group_Oppurtunity=SelectField('Group_Oppurtunity',[validators.DataRequired()],choices=[('Yes','Yes'),('No','No')])\n",
    "    Country=SelectField('Country',[validators.DataRequired()],choices=[('United States of America','United States of America'),('India','India'),('Nigeria','Nigeria'),('Canada','Canada'),('Mexico''Mexico'),('Other values','Other values')])\n",
    "    Is_Military_Lead=SelectField('Is_Military_Lead',[validators.DataRequired()],choices=[('Yes','Yes'),('No','No')])\n",
    "    BOAS_Self_Apply=SelectField('BOAS_Self_Apply',[validators.DataRequired()],choices=[('Yes','Yes'),('No','No')])\n",
    "    Email_Domain=SelectField('Email_Domain',[validators.DataRequired()],choices=[('gmail.com','gmail.com'),('yahoo.com','yahoo.com'),('hotmail.com','hotmail.com'),('aol.com','aol.com'),('icloud.com','icloud.com'),('Other values','Other values')])\n",
    "    \n",
    "    \n",
    "    "
   ]
  },
  {
   "cell_type": "code",
   "execution_count": 109,
   "metadata": {},
   "outputs": [],
   "source": [
    "def predict():\n",
    "    form = FeaturesForm()\n",
    "    if form.validate_on_submit():\n",
    "        Program_Type=form.Program_Type.data\n",
    "        Program_Type_val=program_type_index.index(Program_Type)\n",
    "        ProgramSubType=form.ProgramSubType.data\n",
    "        ProgramSubType_val=programsubtype_index.index(ProgramSubType)\n",
    "        UIAN=form.UIAN.data\n",
    "        uian_val=uian.data_index.index(UIAN)\n",
    "        Inquiry_Source=form.Inquiry_Source.data\n",
    "        Inquiry_Source_val=inquiry_source_index.index(Inquiry_Source)              \n",
    "        Inquiry_Source_Detail=form.Inquiry_Source_Detail.data\n",
    "        Inquiry_Source_Detail_val=inquiry_source_detail_index.index(Inquiry_Source_Detail)\n",
    "        Is_Lead_From_Prohibited_State=form.Is_Lead_From_Prohibited_State.data\n",
    "        Is_Lead_From_Prohibited_State_val=is_lead_from_prohibited_state_index.index(Is_Lead_From_Prohibited_State)\n",
    "        Group_Opportunity =form.Group_Opportunity.data\n",
    "        Group_Opportunit_val =group_opportunity_index.index( Group_Opportunity)\n",
    "        Country=form.Country.data\n",
    "        Country_val=country_index.index(Country)\n",
    "        Is_Military_Lead=form.Is_Military_Lead.data\n",
    "        Is_Military_Lead_val=is_military_lead_index.index(Is_Military_Lead)\n",
    "        BOAS_Self_Apply=form.BOAS_Self_Apply.data\n",
    "        BOAS_Self_Apply_val=boas_self_apply_index.index(BOAS_Self_Apply)\n",
    "        Highest_Level_of_Education=form.Highest_Level_of_Education.data\n",
    "        Highest_Level_of_Education_val=highest_level_of_education_index.index(Highest_Level_of_Education)\n",
    "        Email_Domain=form.Email_Domain.data \n",
    "        Email_Domain_val=email_domain_index.index(Email_Domain)\n",
    "        features = [Program_Type,ProgramSubType,UIAN,Inquiry_Source,Inquiry_Source_Detail,Group_Oppurtunity,Country,Is_Military_Lead,BOAS_Self_Apply,Email_Domain]    \n",
    "        features_val = [Program_Type_val,ProgramSubType_val,UIAN_val,Inquiry_Source_val,Inquiry_Source_Detail_val,Group_Oppurtunity_val,Country_val,Is_Military_Lead_val,BOAS_Self_Apply_val,Email_Domain_val] \n",
    "        df = pd.DataFrame([features], columns=feature_names)     \n",
    "        prediction = model.predict([features_val])      \n",
    "        result = sales_index[prediction[0]]      \n",
    "        return render_template('result.html', df = df, result=result)\n",
    "    return render_template('index.html', form=form)\n",
    "    if __name__ == '__main__':\n",
    "        app.run(debug=True)    "
   ]
  },
  {
   "cell_type": "code",
   "execution_count": null,
   "metadata": {},
   "outputs": [],
   "source": []
  }
 ],
 "metadata": {
  "kernelspec": {
   "display_name": "Python 3",
   "language": "python",
   "name": "python3"
  },
  "language_info": {
   "codemirror_mode": {
    "name": "ipython",
    "version": 3
   },
   "file_extension": ".py",
   "mimetype": "text/x-python",
   "name": "python",
   "nbconvert_exporter": "python",
   "pygments_lexer": "ipython3",
   "version": "3.7.6"
  }
 },
 "nbformat": 4,
 "nbformat_minor": 4
}
